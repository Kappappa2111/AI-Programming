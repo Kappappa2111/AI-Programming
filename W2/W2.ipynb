{
  "nbformat": 4,
  "nbformat_minor": 0,
  "metadata": {
    "colab": {
      "provenance": []
    },
    "kernelspec": {
      "name": "python3",
      "display_name": "Python 3"
    },
    "language_info": {
      "name": "python"
    }
  },
  "cells": [
    {
      "cell_type": "code",
      "execution_count": null,
      "metadata": {
        "colab": {
          "base_uri": "https://localhost:8080/"
        },
        "id": "z7XJD9HK0h-_",
        "outputId": "f2fc9e12-2e8e-4872-80a6-47dbf67b6b01"
      },
      "outputs": [
        {
          "output_type": "stream",
          "name": "stdout",
          "text": [
            "orange: 48.0\n",
            "pear: 45\n",
            "banana: 24\n",
            "apple: 0\n"
          ]
        }
      ],
      "source": [
        "def sort_fruits_by_value(prices, stock):\n",
        "    available_fruits = [key for key in prices]\n",
        "    available_fruits.sort(key=lambda key: prices[key] * stock.get(key, 0), reverse=True)\n",
        "\n",
        "    for key in available_fruits:\n",
        "        quantity = stock.get(key, 0)\n",
        "        value = prices[key] * quantity\n",
        "        print(f\"{key}: {value}\")\n",
        "\n",
        "prices = {\"banana\": 4, \"apple\": 2, \"orange\": 1.5, \"pear\": 3}\n",
        "stock = {\"banana\": 6, \"orange\": 32, \"pear\": 15}\n",
        "\n",
        "# Gọi hàm để sắp xếp và in ra thứ tự các loại trái cây còn trong cửa hàng\n",
        "sort_fruits_by_value(prices, stock)\n"
      ]
    },
    {
      "cell_type": "code",
      "source": [
        "def print_top_three_largest_values(D):\n",
        "    sorted_items = sorted(D.items(), key=lambda item: item[1], reverse=True)\n",
        "    print(\"Ba số nguyên lớn nhất trong từ điển:\")\n",
        "    for i in range(min(3, len(sorted_items))):\n",
        "        key, value = sorted_items[i]\n",
        "        print(f\"{value}\")\n",
        "\n",
        "D = {'a': 10, 'b': 20, 'c': 5, 'd': 30, 'e': 15}\n",
        "print_top_three_largest_values(D)\n"
      ],
      "metadata": {
        "colab": {
          "base_uri": "https://localhost:8080/"
        },
        "id": "SXqi-TO-5o-x",
        "outputId": "0390d0fd-e3ac-4ff5-db31-1eb6cd5586ec"
      },
      "execution_count": null,
      "outputs": [
        {
          "output_type": "stream",
          "name": "stdout",
          "text": [
            "Ba số nguyên lớn nhất trong từ điển:\n",
            "30\n",
            "20\n",
            "15\n"
          ]
        }
      ]
    },
    {
      "cell_type": "code",
      "source": [
        "def divide():\n",
        "  try:\n",
        "    a = int(input())\n",
        "    b = int(input())\n",
        "\n",
        "    result = a/b\n",
        "\n",
        "    print(f\"a/b = {result}\")\n",
        "\n",
        "  except ValueError:\n",
        "    print(\"a, b phai la so nguyen\")\n",
        "  except ZeroDivisionError:\n",
        "    print(\"b = 0 ???\")\n",
        "\n",
        "divide()"
      ],
      "metadata": {
        "colab": {
          "base_uri": "https://localhost:8080/"
        },
        "id": "oZddfm5w-WVI",
        "outputId": "acd24821-ab01-46b0-f121-32fadb74f1fd"
      },
      "execution_count": null,
      "outputs": [
        {
          "output_type": "stream",
          "name": "stdout",
          "text": [
            "6\n",
            "0\n",
            "b = 0 ???\n"
          ]
        }
      ]
    }
  ]
}