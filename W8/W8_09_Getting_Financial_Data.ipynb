{
 "cells": [
  {
   "cell_type": "markdown",
   "metadata": {},
   "source": [
    "# Getting Financial Data - Pandas Datareader"
   ]
  },
  {
   "cell_type": "markdown",
   "metadata": {},
   "source": [
    "### Introduction:\n",
    "\n",
    "This time you will get data from a website.\n",
    "\n",
    "\n",
    "### Step 1. Import the necessary libraries"
   ]
  },
  {
   "cell_type": "code",
   "execution_count": 1,
   "metadata": {},
   "outputs": [],
   "source": [
    "import pandas as pd\n",
    "import numpy as np\n",
    "import matplotlib.pyplot as plt\n",
    "import pandas_datareader.data as web\n",
    "import datetime"
   ]
  },
  {
   "cell_type": "markdown",
   "metadata": {},
   "source": [
    "### Step 2. Create your time range (start and end variables). The start date should be 01/01/2015 and the end should today (whatever your today is)."
   ]
  },
  {
   "cell_type": "code",
   "execution_count": 2,
   "metadata": {},
   "outputs": [],
   "source": [
    "start = datetime.datetime(2015, 1, 1)\n",
    "end = datetime.datetime.today()"
   ]
  },
  {
   "cell_type": "markdown",
   "metadata": {},
   "source": [
    "### Step 3. Get an API key for one of the APIs that are supported by Pandas Datareader, preferably for AlphaVantage.\n",
    "\n",
    "If you do not have an API key for any of the supported APIs, it is easiest to get one for [AlphaVantage](https://www.alphavantage.co/support/#api-key). (Note that the API key is shown directly after the signup. You do *not* receive it via e-mail.)\n",
    "\n",
    "(For a full list of the APIs that are supported by Pandas Datareader, [see here](https://pydata.github.io/pandas-datareader/readers/index.html). As the APIs are provided by third parties, this list may change.)"
   ]
  },
  {
   "cell_type": "markdown",
   "metadata": {},
   "source": [
    "### Step 4. Use Pandas Datarader to read the daily time series for the Apple stock (ticker symbol AAPL) between 01/01/2015 and today, assign it to df_apple and print it."
   ]
  },
  {
   "cell_type": "code",
   "execution_count": 4,
   "metadata": {},
   "outputs": [
    {
     "name": "stdout",
     "output_type": "stream",
     "text": [
      "              open    high      low   close    volume\n",
      "2015-01-02  111.39  111.44  107.350  109.33  53204626\n",
      "2015-01-05  108.29  108.65  105.410  106.25  64285491\n",
      "2015-01-06  106.54  107.43  104.630  106.26  65797116\n",
      "2015-01-07  107.20  108.20  106.695  107.75  40105934\n",
      "2015-01-08  109.23  112.15  108.700  111.89  59364547\n"
     ]
    }
   ],
   "source": [
    "api_key = '9K57KVUCX5GUISCH'\n",
    "df_apple = web.DataReader('AAPL', 'av-daily', start, end, api_key=api_key)\n",
    "print(df_apple.head())"
   ]
  },
  {
   "cell_type": "markdown",
   "metadata": {},
   "source": [
    "### Step 5. Add a new column \"stock\" to the dataframe and add the ticker symbol"
   ]
  },
  {
   "cell_type": "code",
   "execution_count": 5,
   "metadata": {},
   "outputs": [
    {
     "name": "stdout",
     "output_type": "stream",
     "text": [
      "Index(['open', 'high', 'low', 'close', 'volume', 'stock'], dtype='object')\n"
     ]
    }
   ],
   "source": [
    "df_apple['stock'] = 'AAPL'\n",
    "print(df_apple.columns)"
   ]
  },
  {
   "cell_type": "markdown",
   "metadata": {},
   "source": [
    "### Step 6. Repeat the two previous steps for a few other stocks, always creating a new dataframe: Tesla, IBM and Microsoft. (Ticker symbols TSLA, IBM and MSFT.)"
   ]
  },
  {
   "cell_type": "code",
   "execution_count": 6,
   "metadata": {},
   "outputs": [
    {
     "name": "stdout",
     "output_type": "stream",
     "text": [
      "Index(['open', 'high', 'low', 'close', 'volume', 'stock'], dtype='object')\n",
      "Index(['open', 'high', 'low', 'close', 'volume', 'stock'], dtype='object')\n",
      "Index(['open', 'high', 'low', 'close', 'volume', 'stock'], dtype='object')\n"
     ]
    }
   ],
   "source": [
    "df_tesla = web.DataReader('TSLA', 'av-daily', start, end, api_key=api_key)\n",
    "df_tesla['stock'] = 'TSLA'\n",
    "\n",
    "df_ibm = web.DataReader('IBM', 'av-daily', start, end, api_key=api_key)\n",
    "df_ibm['stock'] = 'IBM'\n",
    "\n",
    "df_microsoft = web.DataReader('MSFT', 'av-daily', start, end, api_key=api_key)\n",
    "df_microsoft['stock'] = 'MSFT'\n",
    "\n",
    "print(df_tesla.columns)\n",
    "print(df_ibm.columns)\n",
    "print(df_microsoft.columns)\n"
   ]
  },
  {
   "cell_type": "markdown",
   "metadata": {},
   "source": [
    "### Step 7. Combine the four separate dataFrames into one combined dataFrame df that holds the information for all four stocks"
   ]
  },
  {
   "cell_type": "code",
   "execution_count": 7,
   "metadata": {},
   "outputs": [
    {
     "name": "stdout",
     "output_type": "stream",
     "text": [
      "Index(['open', 'high', 'low', 'close', 'volume', 'stock'], dtype='object')\n"
     ]
    }
   ],
   "source": [
    "df = pd.concat([df_apple, df_tesla, df_ibm, df_microsoft])\n",
    "\n",
    "print(df.columns)\n",
    "df = df.reset_index()\n",
    "\n",
    "if 'date' not in df.columns:\n",
    "    df = df.rename(columns={'index': 'date'})"
   ]
  },
  {
   "cell_type": "markdown",
   "metadata": {},
   "source": [
    "### Step 8. Shift the stock column into the index (making it a multi-level index consisting of the ticker symbol and the date)."
   ]
  },
  {
   "cell_type": "code",
   "execution_count": 8,
   "metadata": {},
   "outputs": [
    {
     "name": "stdout",
     "output_type": "stream",
     "text": [
      "                    open    high      low   close    volume\n",
      "stock date                                                 \n",
      "AAPL  2015-01-02  111.39  111.44  107.350  109.33  53204626\n",
      "      2015-01-05  108.29  108.65  105.410  106.25  64285491\n",
      "      2015-01-06  106.54  107.43  104.630  106.26  65797116\n",
      "      2015-01-07  107.20  108.20  106.695  107.75  40105934\n",
      "      2015-01-08  109.23  112.15  108.700  111.89  59364547\n"
     ]
    }
   ],
   "source": [
    "df = df.set_index(['stock', 'date'])\n",
    "print(df.head())"
   ]
  },
  {
   "cell_type": "markdown",
   "metadata": {},
   "source": [
    "### Step 7. Create a dataFrame called vol, with the volume values."
   ]
  },
  {
   "cell_type": "code",
   "execution_count": 9,
   "metadata": {},
   "outputs": [
    {
     "name": "stdout",
     "output_type": "stream",
     "text": [
      "stock  date      \n",
      "AAPL   2015-01-02    53204626\n",
      "       2015-01-05    64285491\n",
      "       2015-01-06    65797116\n",
      "       2015-01-07    40105934\n",
      "       2015-01-08    59364547\n",
      "Name: volume, dtype: int64\n"
     ]
    }
   ],
   "source": [
    "vol = df['volume']\n",
    "print(vol.head())"
   ]
  },
  {
   "cell_type": "markdown",
   "metadata": {},
   "source": [
    "### Step 8. Aggregate the data of volume to weekly.\n",
    "Hint: Be careful to not sum data from the same week of 2015 and other years."
   ]
  },
  {
   "cell_type": "code",
   "execution_count": 10,
   "metadata": {},
   "outputs": [
    {
     "name": "stdout",
     "output_type": "stream",
     "text": [
      "stock  date      \n",
      "AAPL   2015-01-04     53204626\n",
      "       2015-01-11    282868187\n",
      "       2015-01-18    304226647\n",
      "       2015-01-25    198737041\n",
      "       2015-02-01    465842684\n",
      "Name: volume, dtype: int64\n"
     ]
    }
   ],
   "source": [
    "df.index = df.index.set_levels([df.index.levels[0], pd.to_datetime(df.index.levels[1])])\n",
    "vol_weekly = df['volume'].groupby([pd.Grouper(level='stock'), pd.Grouper(level='date', freq='W')]).sum()\n",
    "print(vol_weekly.head())"
   ]
  },
  {
   "cell_type": "markdown",
   "metadata": {},
   "source": [
    "### Step 9. Find all the volume traded in the year of 2015"
   ]
  },
  {
   "cell_type": "code",
   "execution_count": 21,
   "metadata": {},
   "outputs": [
    {
     "name": "stdout",
     "output_type": "stream",
     "text": [
      "stock\n",
      "AAPL    13064316775\n",
      "IBM      1105545521\n",
      "MSFT     9057582311\n",
      "TSLA     1086708380\n",
      "Name: volume, dtype: int64\n"
     ]
    }
   ],
   "source": [
    "vol_2015 = df['volume'].loc[(slice(None), slice('2015-01-01', '2015-12-31'))]\n",
    "result = vol_2015.groupby(level='stock').sum()\n",
    "print (result)"
   ]
  }
 ],
 "metadata": {
  "kernelspec": {
   "display_name": "Python 3",
   "language": "python",
   "name": "python3"
  },
  "language_info": {
   "codemirror_mode": {
    "name": "ipython",
    "version": 3
   },
   "file_extension": ".py",
   "mimetype": "text/x-python",
   "name": "python",
   "nbconvert_exporter": "python",
   "pygments_lexer": "ipython3",
   "version": "3.9.19"
  }
 },
 "nbformat": 4,
 "nbformat_minor": 1
}
